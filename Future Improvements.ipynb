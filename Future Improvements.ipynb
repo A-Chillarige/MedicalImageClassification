{
 "cells": [
  {
   "cell_type": "markdown",
   "id": "0edaf0a9-8312-43a6-a364-6a23eedcf79f",
   "metadata": {},
   "source": [
    "## Future Improvements"
   ]
  },
  {
   "cell_type": "markdown",
   "id": "551ec283-8db3-45d5-a685-01479526b5a2",
   "metadata": {},
   "source": [
    "### Classes:\n",
    "##### At the moment, the current classes are \n",
    "##### 0: Not Fractured\n",
    "##### 1: Fractured \n",
    "##### 2: No Brain Tumor\n",
    "##### 3: Glioma\n",
    "##### 4: Meningioma\n",
    "##### 5: Pituitary\n",
    "##### \n",
    "##### 0 and 1 are based on X-rays\n",
    "##### 2-5 are based on MRIs\n",
    "Although the bone fracture classes are interesting in concept, they provide little use to users since most who have the resources to acquire X-rays of themselves also have doctors ready to explain them. Even if they don't have a doctor, it is usually quite easy to notice when you have a fractured bone. \n",
    "\n",
    "Ailments concerning the brain, however, are far more complex and harder to discern, making classes 2-5 more valuable.\n",
    "##### This means that this section of classes has more potential to be expanded\n",
    "#### Possibilities of Expansion:\n",
    "##### 1.) Alzheimer's\n",
    "- Alzheimer's has multiple stages, and even if a patient has already been diagnosed, it is easy for them or their caretaker to forget how severe the illness is\n",
    "- The following dataset has 4 classes of Alzheimer's labeled from Non-Demented all the way to Moderate Demented\n",
    "- With around 5,000 data entries, a deep learning program should easily be able to predict labels from future MRIs\n",
    "- https://huggingface.co/datasets/Falah/Alzheimer_MRI\n",
    "##### 2.) Chest Diseases\n",
    "- This series of classes represents the most common chest diseases that can occur in both male and female patients \n",
    "- This data also comes from X-rays but, unlike the Fractured/Not Fractured classes, is much harder to notice and can greatly help doctors in categorizing illnesses\n",
    "- These are the following chest disease classes the dataset can help categorize:\n",
    "    - Atelectasis, Consolidation, Infiltration, Pneumothorax, Edema, Emphysema, Fibrosis, Effusion, Pneumonia, Cardiomegaly, Nodule, Mass, No Finding, Pleural Thickening, Multiple Chest Diseases\n",
    "- The code for implementing these classes into the model has already been finished by me. However, due to a lack of resources and computation power, it had to be dropped\n",
    "- The dataset is provided by the National Institutes of Health and is Public Domain\n",
    "- https://www.kaggle.com/datasets/nih-chest-xrays/data/data?select=BBox_List_2017.csv\n",
    "##### 3.) Lab Results\n",
    "- Although Lab Results are less dire, they often have information that could potentially be confusing to patients\n",
    "- Implementing this would require a restructuring of the model since it would need Natural Language Processing, but this avenue still holds potential"
   ]
  },
  {
   "cell_type": "code",
   "execution_count": null,
   "id": "d4b74abd-e031-43ec-9169-8734e9559511",
   "metadata": {},
   "outputs": [],
   "source": []
  }
 ],
 "metadata": {
  "kernelspec": {
   "display_name": "Python 3 (ipykernel)",
   "language": "python",
   "name": "python3"
  },
  "language_info": {
   "codemirror_mode": {
    "name": "ipython",
    "version": 3
   },
   "file_extension": ".py",
   "mimetype": "text/x-python",
   "name": "python",
   "nbconvert_exporter": "python",
   "pygments_lexer": "ipython3",
   "version": "3.12.2"
  }
 },
 "nbformat": 4,
 "nbformat_minor": 5
}
